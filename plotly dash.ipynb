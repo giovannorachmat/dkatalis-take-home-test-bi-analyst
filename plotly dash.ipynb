import dash
import dash_core_components as dcc
import dash_html_components as html
from dash.dependencies import Input, Output
import plotly.express as px
import plotly.graph_objects as go
import plotly.io as pio
pio.renderers.default='notebook'

import pandas as pd
